{
 "cells": [
  {
   "cell_type": "code",
   "execution_count": 2,
   "metadata": {},
   "outputs": [
    {
     "name": "stdout",
     "output_type": "stream",
     "text": [
      "Luftqualität in Berlin: 46\n"
     ]
    }
   ],
   "source": [
    "# Dein API-Schlüssel (ersetzen!)\n",
    "API_KEY = \"93b641971d6af39883e924302d2287d69487dd88\"\n",
    "city = \"Berlin\"\n",
    "\n",
    "# API-URL\n",
    "url = f\"https://api.waqi.info/feed/{city}/?token={API_KEY}\"\n",
    "\n",
    "# Anfrage senden\n",
    "response = requests.get(url)\n",
    "\n",
    "# Antwort prüfen und ausgeben\n",
    "if response.status_code == 200:\n",
    "    data = response.json()\n",
    "    if data[\"status\"] == \"ok\":\n",
    "        print(f\"Luftqualität in {city}: {data['data']['aqi']}\")\n",
    "    else:\n",
    "        print(\"Fehler: Ungültige Stadt oder API-Probleme\")\n",
    "else:\n",
    "    print(f\"Fehler: {response.status_code}, {response.text}\")"
   ]
  },
  {
   "cell_type": "code",
   "execution_count": 1,
   "metadata": {},
   "outputs": [],
   "source": [
    "import requests"
   ]
  }
 ],
 "metadata": {
  "kernelspec": {
   "display_name": ".venv",
   "language": "python",
   "name": "python3"
  },
  "language_info": {
   "codemirror_mode": {
    "name": "ipython",
    "version": 3
   },
   "file_extension": ".py",
   "mimetype": "text/x-python",
   "name": "python",
   "nbconvert_exporter": "python",
   "pygments_lexer": "ipython3",
   "version": "3.12.9"
  }
 },
 "nbformat": 4,
 "nbformat_minor": 2
}
